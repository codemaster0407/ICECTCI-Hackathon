{
 "cells": [
  {
   "cell_type": "code",
   "execution_count": 1,
   "id": "f4be580e-94ce-4e7d-8c5d-7ed541739547",
   "metadata": {},
   "outputs": [],
   "source": [
    "import json\n",
    "import os\n",
    "from pprint import pprint\n",
    "import bitsandbytes as bnb\n",
    "import torch\n",
    "import torch.nn as nn\n",
    "import transformers\n",
    "from datasets import load_dataset\n",
    "from huggingface_hub import notebook_login\n",
    "\n",
    "\n",
    "from peft import (\n",
    "    LoraConfig,\n",
    "    PeftConfig,\n",
    "    PeftModel,\n",
    "    get_peft_model,\n",
    "    prepare_model_for_kbit_training\n",
    ")\n",
    "\n",
    "from transformers import (\n",
    "    AutoConfig,\n",
    "    AutoModelForCausalLM,\n",
    "    AutoTokenizer,\n",
    "    BitsAndBytesConfig\n",
    ")\n",
    "\n",
    "from transformers import AutoTokenizer, AutoModelForCausalLM\n",
    "\n",
    "os.environ[\"CUDA_VISIBLE_DEVICES\"] = \"0\""
   ]
  },
  {
   "cell_type": "markdown",
   "id": "f48c9078-7d43-4094-9ce6-fcdd80f69754",
   "metadata": {},
   "source": [
    "## Loading the generic model (finetuned on Nvidia tech blogs)"
   ]
  },
  {
   "cell_type": "code",
   "execution_count": 2,
   "id": "9d0beda9-3dfd-4d84-aa23-266377c00b38",
   "metadata": {
    "tags": []
   },
   "outputs": [
    {
     "data": {
      "application/vnd.jupyter.widget-view+json": {
       "model_id": "45235a08c66041b18189b3b9d1501ad6",
       "version_major": 2,
       "version_minor": 0
      },
      "text/plain": [
       "Loading checkpoint shards:   0%|          | 0/2 [00:00<?, ?it/s]"
      ]
     },
     "metadata": {},
     "output_type": "display_data"
    }
   ],
   "source": [
    "PEFT_MODEL_gen = \"FALCON7B_r32_a64_gen_tot\"\n",
    "\n",
    "config_gen = PeftConfig.from_pretrained(PEFT_MODEL_gen)\n",
    "\n",
    "bnb_config = BitsAndBytesConfig(\n",
    "    load_in_8bit = True\n",
    ")\n",
    "\n",
    "\n",
    "model_gen = AutoModelForCausalLM.from_pretrained(\n",
    "    config_gen.base_model_name_or_path,\n",
    "    return_dict=True,\n",
    "    quantization_config=bnb_config,\n",
    "    # device_map=device_map,\n",
    "    device_map=\"auto\",\n",
    "    torch_dtype=torch.float16,\n",
    "    trust_remote_code=True,\n",
    "    # use_auth_token = True\n",
    ")\n",
    "\n",
    "tokenizer_gen = AutoTokenizer.from_pretrained(config_gen.base_model_name_or_path)\n",
    "tokenizer_gen.pad_token = tokenizer_gen.eos_token\n",
    "\n",
    "model_gen = PeftModel.from_pretrained(model_gen, PEFT_MODEL_gen)"
   ]
  },
  {
   "cell_type": "markdown",
   "id": "1b45e640-39da-4389-b1f1-c352cb719402",
   "metadata": {},
   "source": [
    "### Setting up the generation parameters "
   ]
  },
  {
   "cell_type": "code",
   "execution_count": 3,
   "id": "a930f8b1-068f-4d87-8799-df0e688f2559",
   "metadata": {
    "tags": []
   },
   "outputs": [],
   "source": [
    "generation_config_gen = model_gen.generation_config\n",
    "generation_config_gen.max_new_tokens = 100\n",
    "generation_config_gen.temperature = 0.005\n",
    "generation_config_gen.top_p = 1\n",
    "generation_config_gen.num_return_sequences = 1\n",
    "generation_config_gen.pad_token_id = tokenizer_gen.eos_token_id\n",
    "generation_config_gen.eos_token_id = tokenizer_gen.eos_token_id\n",
    "generation_config_gen.repetition_penalty = 2.5"
   ]
  },
  {
   "cell_type": "code",
   "execution_count": null,
   "id": "f7a573fc-af83-40c8-a387-e3cc9143e2c3",
   "metadata": {},
   "outputs": [],
   "source": []
  },
  {
   "cell_type": "markdown",
   "id": "9bda1651-7630-40ca-ac4a-285509b2905e",
   "metadata": {},
   "source": []
  },
  {
   "cell_type": "code",
   "execution_count": 8,
   "id": "4f881cfa-0efd-42c3-bf0a-e8ef57ad4c9a",
   "metadata": {
    "tags": []
   },
   "outputs": [],
   "source": [
    "import pandas as pd\n",
    "\n",
    "df = pd.read_csv(\"NVIDIA_QA_kit.csv\")\n",
    "\n",
    "del df[\"Unnamed: 0\"]"
   ]
  },
  {
   "cell_type": "code",
   "execution_count": 9,
   "id": "cc150ac4-d20b-415e-9f1d-b5aaf29bdcbe",
   "metadata": {},
   "outputs": [],
   "source": [
    "from datasets import Dataset\n",
    "\n",
    "eval_data = Dataset.from_pandas(df)"
   ]
  },
  {
   "cell_type": "code",
   "execution_count": 24,
   "id": "62dd6c3c-5900-4761-a446-dd46be287206",
   "metadata": {
    "tags": []
   },
   "outputs": [],
   "source": [
    "def generate_prompt(data_point):\n",
    "    return f\"\"\"\n",
    "    Answer the following question about Nvidea's product and services: \\n\\n{data_point[\"question\"]}\n",
    "    \\n\\nAnswer:-: {data_point[\"answer\"]}\n",
    "    \"\"\".strip()\n",
    "\n",
    "def generate_and_tokenize_prompt(data_point):\n",
    "    full_prompt = generate_prompt(data_point)\n",
    "    tokenized_full_prompt = tokenizer_gen(full_prompt, padding=True, truncation=True)\n",
    "    return tokenized_full_prompt\n",
    "\n",
    "\n",
    "if tokenizer_gen.pad_token is None:\n",
    "    tokenizer_gen.add_special_tokens({'pad_token': '[PAD]'})\n",
    "    model_gen.resize_token_embeddings(len(tokenizer_gen))"
   ]
  },
  {
   "cell_type": "code",
   "execution_count": 26,
   "id": "59780eb7-ead1-4d9b-ad5d-7903e3ec29ff",
   "metadata": {
    "tags": []
   },
   "outputs": [
    {
     "data": {
      "application/vnd.jupyter.widget-view+json": {
       "model_id": "",
       "version_major": 2,
       "version_minor": 0
      },
      "text/plain": [
       "Map:   0%|          | 0/164 [00:00<?, ? examples/s]"
      ]
     },
     "metadata": {},
     "output_type": "display_data"
    }
   ],
   "source": [
    "eval_data = eval_data.map(generate_and_tokenize_prompt)"
   ]
  },
  {
   "cell_type": "code",
   "execution_count": 32,
   "id": "86b04859-3bd0-423b-b46d-560af5892369",
   "metadata": {
    "tags": []
   },
   "outputs": [],
   "source": [
    "# eval_data[0]"
   ]
  },
  {
   "cell_type": "code",
   "execution_count": 27,
   "id": "7631ba79-5ff7-445a-ae9a-ff277e4c7dbe",
   "metadata": {},
   "outputs": [
    {
     "data": {
      "text/plain": [
       "Dataset({\n",
       "    features: ['question', 'answer', 'input_ids', 'token_type_ids', 'attention_mask'],\n",
       "    num_rows: 164\n",
       "})"
      ]
     },
     "execution_count": 27,
     "metadata": {},
     "output_type": "execute_result"
    }
   ],
   "source": [
    "eval_data"
   ]
  },
  {
   "cell_type": "code",
   "execution_count": null,
   "id": "4bb51acc-8f17-45c7-8abc-7b52493a7abe",
   "metadata": {},
   "outputs": [],
   "source": []
  },
  {
   "cell_type": "code",
   "execution_count": 13,
   "id": "0f9cfaed-ae64-4965-b88e-c3a9b335c10a",
   "metadata": {},
   "outputs": [
    {
     "name": "stdout",
     "output_type": "stream",
     "text": [
      "CPU times: user 2.54 ms, sys: 1.13 ms, total: 3.67 ms\n",
      "Wall time: 2.71 ms\n"
     ]
    }
   ],
   "source": [
    "%%time\n",
    "device = \"cuda:0\"\n",
    "\n",
    "\n",
    "# question = '''How can I install the\n",
    "# NVIDIA CUDA Toolkit on\n",
    "# Windows?'''\n",
    "\n",
    "# question = '''What is the NVIDIA CUDA Toolkit?'''\n",
    "\n",
    "# ans_true = '''The CUDA Toolkit from NVIDIA provides everything\n",
    "# you need to develop GPU-accelerated applications.\n",
    "# The CUDA Toolkit includes GPU-accelerated libraries,\n",
    "# a\n",
    "# compiler, development tools and the CUDA runtime.'''\n",
    "\n",
    "\n",
    "\n",
    "question = '''What is the difference between\n",
    "NVIDIA's BioMegatron and Megatron\n",
    "530B LLM?'''\n",
    "\n",
    "ans_true = '''BioMegatron focuses specifically on biomedical NLP\n",
    "tasks and has been trained on relevant biomedical data,\n",
    "Megatron 530B LLM is a more general-purpose\n",
    "language model trained on a wide variety of text from\n",
    "different domains. The choice between the two models\n",
    "depends on the specific requirements and domain of your\n",
    "NLP task.'''\n",
    "\n",
    "\n",
    "prompt = f\"\"\"\n",
    "Answer the following question about Nvidea's product and services in detail: \\n{question}\n",
    "\\nAnswer:-\n",
    "\"\"\".strip()\n",
    "\n",
    "\n",
    "\n",
    "# prompt = \"\"\"\n",
    "# Answer the following question about Nvidea's product and services: What is NVIDEA's Omniverse? What is the purpose of it? Explain breifly \\n\\n\n",
    "# \\n\\nAnswer:-:\n",
    "# \"\"\".strip()\n",
    "\n",
    "encoding = tokenizer_gen(prompt, return_tensors=\"pt\").to(device)"
   ]
  },
  {
   "cell_type": "code",
   "execution_count": 16,
   "id": "9ac1c992-f17f-4212-977e-9897e31f0c26",
   "metadata": {},
   "outputs": [],
   "source": [
    "def get_reponse(query, query_type):\n",
    "    \n",
    "    device = \"cuda:0\"\n",
    "    \n",
    "    prompt = f\"\"\"\n",
    "        Answer the following question about Nvidia's product and services in detail: \\n{query}\n",
    "        \\nAnswer:-\n",
    "        \"\"\".strip()\n",
    "    \n",
    "    if query_type == \"code\":\n",
    "        \n",
    "        print(\"Code\")\n",
    "\n",
    "        \n",
    "        encoding = tokenizer_code(prompt, return_tensors=\"pt\").to(device)\n",
    "        \n",
    "        with torch.inference_mode():\n",
    "            outputs = model_code.generate(\n",
    "              input_ids = encoding.input_ids,\n",
    "              attention_mask = encoding.attention_mask,\n",
    "              generation_config = generation_config_code\n",
    "          )\n",
    "            \n",
    "        response = tokenizer_code.decode(outputs[0], skip_special_tokens=True)\n",
    "        \n",
    "        \n",
    "        return response\n",
    "        \n",
    "\n",
    "\n",
    "    elif query_type == \"generic\":\n",
    "        \n",
    "        print(\"Generic\")\n",
    "        \n",
    "        encoding = tokenizer_gen(prompt, return_tensors=\"pt\").to(device)\n",
    "        \n",
    "        with torch.inference_mode():\n",
    "            outputs = model_gen.generate(\n",
    "              input_ids = encoding.input_ids,\n",
    "              attention_mask = encoding.attention_mask,\n",
    "              generation_config = generation_config_gen\n",
    "          )\n",
    "            \n",
    "        response = tokenizer_gen.decode(outputs[0], skip_special_tokens=True)\n",
    "        \n",
    "        \n",
    "        return response\n",
    "        \n",
    "        \n",
    "        \n",
    "    else:\n",
    "        print('''Please choose query_type to be one of these :- {\"code\", \"generic\"}''')\n",
    "        return \n",
    "            \n",
    "            \n",
    "                    "
   ]
  },
  {
   "cell_type": "code",
   "execution_count": 17,
   "id": "d7b1d69f-a3b9-49bc-83c0-5fa2527f0c6a",
   "metadata": {
    "tags": []
   },
   "outputs": [
    {
     "name": "stdout",
     "output_type": "stream",
     "text": [
      "Generic\n"
     ]
    }
   ],
   "source": [
    "generation_config_gen = model_gen.generation_config\n",
    "generation_config_gen.max_new_tokens = 500\n",
    "generation_config_gen.temperature = 0.005\n",
    "generation_config_gen.top_p = 1\n",
    "generation_config_gen.num_return_sequences = 1\n",
    "generation_config_gen.pad_token_id = tokenizer_gen.eos_token_id\n",
    "generation_config_gen.eos_token_id = tokenizer_gen.eos_token_id\n",
    "generation_config_gen.repetition_penalty = 2.5\n",
    "\n",
    "\n",
    "# op = get_reponse(query = ''' What is Nvidia RAPIDS? what is it used for? '''\n",
    "            \n",
    "#             , query_type = \"generic\")\n",
    "\n",
    "\n",
    "query = \"How to install NVIDIA on vmware?\"\n",
    "\n",
    "op = get_reponse(query = query\n",
    "            \n",
    "            , query_type = \"generic\")\n",
    "\n"
   ]
  },
  {
   "cell_type": "code",
   "execution_count": 18,
   "id": "bb533fc3-a9cc-4337-842b-a28ae507b199",
   "metadata": {
    "tags": []
   },
   "outputs": [
    {
     "name": "stdout",
     "output_type": "stream",
     "text": [
      "Answer the following question about Nvidia's product and services in detail: \n",
      "How to install NVIDIA on vmware?\n",
      "        \n",
      "Answer:-: To install NVIDIA drivers for Linux guests, you must first enable virtualization support in your VMware Workstation or Fusion settings. Then download and run the installer package from nvidia.com/drivers. After installation, reboot your virtual machine. Once it restarts, log into GNOME Shell as root with sudo su -c sh -e '/usr/bin/nvdia_installer'. This will launch a graphical user interface that guides you through installing CUDA Toolkit components. You can also use this method to update existing installations of CUDA software packages.\n"
     ]
    }
   ],
   "source": [
    "print(op)"
   ]
  },
  {
   "cell_type": "code",
   "execution_count": 55,
   "id": "74563e8e-7a8c-43ec-8d2a-98b1e71c16b3",
   "metadata": {
    "tags": []
   },
   "outputs": [],
   "source": [
    "\n",
    "question = '''What are the key features of the NVIDIA TensorRT?'''\n",
    "\n",
    "ans_true = '''NVIDIA TensorRT, an SDK for high-performance\n",
    "deep learning inference, includes a deep learning\n",
    "inference optimizer and runtime that delivers low\n",
    "latency and high throughput for inference\n",
    "applications.Some key features of TensorRT include:\n",
    "- NVIDIA TensorRT-based applications perform up\n",
    "to 36X faster than CPU-only platforms during\n",
    "inference, enabling you to optimize neural network\n",
    "models\n",
    "- TensorRT, built on the NVIDIA CUDA®\n",
    "parallel programming model, enables you to optimize\n",
    "inference using techniques such as quantization, layer\n",
    "and tensor fusion, kernel tuning, and others on\n",
    "NVIDIA GPUs.'''"
   ]
  },
  {
   "cell_type": "code",
   "execution_count": 53,
   "id": "3d675f4f-a3c5-4071-aaf8-ffd38429cbb1",
   "metadata": {
    "tags": []
   },
   "outputs": [
    {
     "name": "stdout",
     "output_type": "stream",
     "text": [
      "Generic\n",
      "Answer the following question about Nvidia's product and services in detail: \n",
      "What are the key features of the NVIDIA TensorRT?\n",
      "        \n",
      "Answer:-: The NVIDIA® TensorRT™ inference engine is a high-performance, production ready library that accelerates deep learning inferencing on GPUs. It provides optimized implementations for popular neural networks such as ResNet50V2, MobileNetsv2/3, Inception v4, XGBoost, DensePose, etc., with support for multiple backends including CUDA, OpenCL, DirectX Compute Shaders, Intel SGDR, Microsoft CUDNN, Arm NNAPI, Apple Metal MLCompute API, Google Cloud TPU Accelerator, AWS Nitro Enclave SDK, Azure Cognitive Services REST APIs, and more.\n"
     ]
    }
   ],
   "source": [
    "query = \"What are the key features of the NVIDIA TensorRT?\"\n",
    "\n",
    "op = get_reponse(query = query\n",
    "            \n",
    "            , query_type = \"generic\")\n",
    "\n",
    "print(op)"
   ]
  },
  {
   "cell_type": "code",
   "execution_count": 56,
   "id": "67f8f536-9947-40b0-8dce-3b3b063c8875",
   "metadata": {
    "tags": []
   },
   "outputs": [
    {
     "data": {
      "text/plain": [
       "'NVIDIA TensorRT, an SDK for high-performance\\ndeep learning inference, includes a deep learning\\ninference optimizer and runtime that delivers low\\nlatency and high throughput for inference\\napplications.Some key features of TensorRT include:\\n- NVIDIA TensorRT-based applications perform up\\nto 36X faster than CPU-only platforms during\\ninference, enabling you to optimize neural network\\nmodels\\n- TensorRT, built on the NVIDIA CUDA®\\nparallel programming model, enables you to optimize\\ninference using techniques such as quantization, layer\\nand tensor fusion, kernel tuning, and others on\\nNVIDIA GPUs.'"
      ]
     },
     "execution_count": 56,
     "metadata": {},
     "output_type": "execute_result"
    }
   ],
   "source": [
    "ans_true"
   ]
  },
  {
   "cell_type": "code",
   "execution_count": 33,
   "id": "8f989e3c-52e7-48dd-8b05-7456fdc28caf",
   "metadata": {
    "tags": []
   },
   "outputs": [],
   "source": [
    "import locale\n",
    "locale.getpreferredencoding = lambda: \"UTF-8\"\n",
    "from rouge import Rouge\n",
    "\n",
    "def eval_query(prediction, output):\n",
    "    \n",
    "    rouge = Rouge()\n",
    "    rouge_scores = rouge.get_scores(prediction, output)[0]\n",
    "    rouge_1 = rouge_scores['rouge-1']['f']\n",
    "    rouge_2 = rouge_scores['rouge-2']['f']\n",
    "    rouge_l = rouge_scores['rouge-l']['f']\n",
    "\n",
    "    \n",
    "    return [rouge_1,rouge_2,rouge_l]"
   ]
  },
  {
   "cell_type": "code",
   "execution_count": 41,
   "id": "c710d6cf-ba9c-49aa-afe1-7cba876fa829",
   "metadata": {
    "tags": []
   },
   "outputs": [],
   "source": [
    "def get_scores(eval_data):\n",
    "    \n",
    "    r1_scores = []\n",
    "    r2_scores = []\n",
    "    rL_scores = []\n",
    "    \n",
    "    for i in range(len(eval_data)):\n",
    "\n",
    "        question = eval_data[i][\"question\"]\n",
    "        \n",
    "        prompt = f\"\"\"\n",
    "        Answer the following question about Nvidea's product and services in detail: \\n{question}\n",
    "        \\nAnswer:-\n",
    "        \"\"\".strip()\n",
    "\n",
    "        encoding = tokenizer_gen(prompt, return_tensors=\"pt\").to(device)\n",
    "\n",
    "        outputs = model_gen.generate(\n",
    "          input_ids = encoding.input_ids,\n",
    "          attention_mask = encoding.attention_mask,\n",
    "          generation_config = generation_config_gen\n",
    "      )\n",
    "        \n",
    "        prediction = tokenizer_gen.decode(outputs[0], skip_special_tokens=True)\n",
    "        \n",
    "        output = eval_data[i][\"answer\"]\n",
    "    \n",
    "        rouge_1,rouge_2,rouge_l = eval_query(prediction, output)\n",
    "        \n",
    "        r1_scores.append(rouge_1)\n",
    "        r2_scores.append(rouge_2)\n",
    "        rL_scores.append(rouge_l)\n",
    "        \n",
    "        \n",
    "    return [r1_scores,r2_scores,rL_scores]\n",
    "        \n",
    "        "
   ]
  },
  {
   "cell_type": "code",
   "execution_count": 42,
   "id": "dd4b1a63-713d-4fb4-9373-3269b175bbdc",
   "metadata": {
    "collapsed": true,
    "jupyter": {
     "outputs_hidden": true
    },
    "tags": []
   },
   "outputs": [
    {
     "name": "stdout",
     "output_type": "stream",
     "text": [
      "CPU times: user 20min 41s, sys: 95.2 ms, total: 20min 41s\n",
      "Wall time: 20min 41s\n"
     ]
    },
    {
     "data": {
      "text/plain": [
       "[[0.16867469388300205,\n",
       "  0.18181817884297521,\n",
       "  0.17999999533800012,\n",
       "  0.18181817904040404,\n",
       "  0.37894736371412746,\n",
       "  0.270270266092038,\n",
       "  0.2888888840098766,\n",
       "  0.0941176446339101,\n",
       "  0.25974025629954467,\n",
       "  0.2666666622222223,\n",
       "  0.13999999745000002,\n",
       "  0.15730336742835507,\n",
       "  0.2702702658875092,\n",
       "  0.23404254949524675,\n",
       "  0.3055555510223766,\n",
       "  0.20930232127366155,\n",
       "  0.25641025191029304,\n",
       "  0.285714281044898,\n",
       "  0.28865978939313425,\n",
       "  0.3181818136182852,\n",
       "  0.19753085925925937,\n",
       "  0.21428571010487535,\n",
       "  0.34090908611828513,\n",
       "  0.23255813492428348,\n",
       "  0.35416666253472223,\n",
       "  0.30136985916307,\n",
       "  0.2619047572477325,\n",
       "  0.2799999958,\n",
       "  0.33734939320075485,\n",
       "  0.31884057479521116,\n",
       "  0.268041233095972,\n",
       "  0.30434782120274106,\n",
       "  0.357142852244898,\n",
       "  0.17204300646086262,\n",
       "  0.34666666192355555,\n",
       "  0.27083332870008686,\n",
       "  0.3218390756084027,\n",
       "  0.10833333120868059,\n",
       "  0.3076923034319527,\n",
       "  0.27499999537812503,\n",
       "  0.2666666624666667,\n",
       "  0.29999999537812505,\n",
       "  0.32558139143050296,\n",
       "  0.4155844107741609,\n",
       "  0.28571428145393074,\n",
       "  0.321839076268992,\n",
       "  0.3142857102040817,\n",
       "  0.2978723365210503,\n",
       "  0.22784809684986387,\n",
       "  0.2799999958,\n",
       "  0.33734939320075485,\n",
       "  0.31884057479521116,\n",
       "  0.268041233095972,\n",
       "  0.30434782120274106,\n",
       "  0.357142852244898,\n",
       "  0.17204300646086262,\n",
       "  0.34666666192355555,\n",
       "  0.27083332870008686,\n",
       "  0.3218390756084027,\n",
       "  0.10833333120868059,\n",
       "  0.3076923034319527,\n",
       "  0.27499999537812503,\n",
       "  0.2666666624666667,\n",
       "  0.29999999537812505,\n",
       "  0.32558139143050296,\n",
       "  0.4155844107741609,\n",
       "  0.28571428145393074,\n",
       "  0.321839076268992,\n",
       "  0.3142857102040817,\n",
       "  0.2978723365210503,\n",
       "  0.22784809684986387,\n",
       "  0.202531641339529,\n",
       "  0.2285714251501134,\n",
       "  0.20454545029183893,\n",
       "  0.3235294073875433,\n",
       "  0.15555555154321,\n",
       "  0.24657533757928327,\n",
       "  0.29999999580000003,\n",
       "  0.2307692263247864,\n",
       "  0.2926829226888757,\n",
       "  0.17045454318246386,\n",
       "  0.1718749965820313,\n",
       "  0.34782608251207736,\n",
       "  0.2978723361588955,\n",
       "  0.23999999515022236,\n",
       "  0.29999999580000003,\n",
       "  0.25316455219355877,\n",
       "  0.2307692263247864,\n",
       "  0.1718749965820313,\n",
       "  0.34782608251207736,\n",
       "  0.23999999515022236,\n",
       "  0.29999999580000003,\n",
       "  0.20833332888888897,\n",
       "  0.23333332900555565,\n",
       "  0.1764705836120724,\n",
       "  0.2857142812081633,\n",
       "  0.2666666622875284,\n",
       "  0.14035087280855663,\n",
       "  0.31372548581891585,\n",
       "  0.3124999951757813,\n",
       "  0.1111111083333334,\n",
       "  0.16129031987513012,\n",
       "  0.2631578914127424,\n",
       "  0.15584415321302078,\n",
       "  0.16901408151557235,\n",
       "  0.0,\n",
       "  0.1562499972570801,\n",
       "  0.25714285361632655,\n",
       "  0.2105263133764235,\n",
       "  0.3181818146694215,\n",
       "  0.17647058496539797,\n",
       "  0.10619468783459948,\n",
       "  0.18918918612125643,\n",
       "  0.24324324052593138,\n",
       "  0.06818181466942166,\n",
       "  0.14736841738282558,\n",
       "  0.2696629176265623,\n",
       "  0.24390243509815587,\n",
       "  0.05555555277777792,\n",
       "  0.19565217005671084,\n",
       "  0.29885057034747,\n",
       "  0.17283950285627195,\n",
       "  0.1428571390367348,\n",
       "  0.3124999954882813,\n",
       "  0.22857142461632657,\n",
       "  0.18461538141538467,\n",
       "  0.24137930727110585,\n",
       "  0.13432835536533758,\n",
       "  0.17499999680000003,\n",
       "  0.28282827805325994,\n",
       "  0.23880596667409226,\n",
       "  0.32727272366280996,\n",
       "  0.2307692270192308,\n",
       "  0.3283582053196703,\n",
       "  0.24242423797979806,\n",
       "  0.27777777389274694,\n",
       "  0.15789473262119125,\n",
       "  0.2933333288888889,\n",
       "  0.22950819301263106,\n",
       "  0.27450979904459827,\n",
       "  0.2962962913336382,\n",
       "  0.30555555209876545,\n",
       "  0.22727272233729348,\n",
       "  0.35555555080246914,\n",
       "  0.21212120778236923,\n",
       "  0.18666666346666672,\n",
       "  0.07692307381656818,\n",
       "  0.2696629176265623,\n",
       "  0.24390243509815587,\n",
       "  0.05555555277777792,\n",
       "  0.19565217005671084,\n",
       "  0.29885057034747,\n",
       "  0.17283950285627195,\n",
       "  0.24242423797979806,\n",
       "  0.27777777389274694,\n",
       "  0.15789473262119125,\n",
       "  0.2051282003944774,\n",
       "  0.32432432004017536,\n",
       "  0.19565216967863905,\n",
       "  0.17721518649575393,\n",
       "  0.25287355840930115,\n",
       "  0.19047618672619052,\n",
       "  0.17499999520000015,\n",
       "  0.16216215892987587],\n",
       " [0.0,\n",
       "  0.13953488099513256,\n",
       "  0.03418802931989258,\n",
       "  0.012987010446112826,\n",
       "  0.15384614903106522,\n",
       "  0.05194804775847563,\n",
       "  0.05825242229050848,\n",
       "  0.04395604135249381,\n",
       "  0.09756097232302213,\n",
       "  0.044444440000000446,\n",
       "  0.01851851626200302,\n",
       "  0.07692307347818063,\n",
       "  0.07894736409972322,\n",
       "  0.059405936868934646,\n",
       "  0.1558441512902683,\n",
       "  0.063829782888185,\n",
       "  0.029629625136900546,\n",
       "  0.035398225417809376,\n",
       "  0.018348619207138622,\n",
       "  0.18947367950360122,\n",
       "  0.022222217261729498,\n",
       "  0.11111110691111126,\n",
       "  0.08080807603305813,\n",
       "  0.041666662369792114,\n",
       "  0.05882352525951587,\n",
       "  0.15189873027399467,\n",
       "  0.06185566543522195,\n",
       "  0.09174311490615289,\n",
       "  0.06593406144185515,\n",
       "  0.07499999511250031,\n",
       "  0.07207206789384003,\n",
       "  0.10909090413223163,\n",
       "  0.10638297375961997,\n",
       "  0.055045867337766514,\n",
       "  0.19277107954710418,\n",
       "  0.08928570964445177,\n",
       "  0.059405935618077076,\n",
       "  0.05194804968797446,\n",
       "  0.11627906554894551,\n",
       "  0.048780483233194956,\n",
       "  0.03999999564800047,\n",
       "  0.15730336612043946,\n",
       "  0.10101009686766674,\n",
       "  0.20930232080043276,\n",
       "  0.056074761953009346,\n",
       "  0.08510637871208714,\n",
       "  0.2278480973626022,\n",
       "  0.21621621219056897,\n",
       "  0.09756097119274261,\n",
       "  0.09174311490615289,\n",
       "  0.06593406144185515,\n",
       "  0.07499999511250031,\n",
       "  0.07207206789384003,\n",
       "  0.10909090413223163,\n",
       "  0.10638297375961997,\n",
       "  0.055045867337766514,\n",
       "  0.19277107954710418,\n",
       "  0.08928570964445177,\n",
       "  0.059405935618077076,\n",
       "  0.05194804968797446,\n",
       "  0.11627906554894551,\n",
       "  0.048780483233194956,\n",
       "  0.03999999564800047,\n",
       "  0.15730336612043946,\n",
       "  0.10101009686766674,\n",
       "  0.20930232080043276,\n",
       "  0.056074761953009346,\n",
       "  0.08510637871208714,\n",
       "  0.2278480973626022,\n",
       "  0.21621621219056897,\n",
       "  0.09756097119274261,\n",
       "  0.06741572602449213,\n",
       "  0.06956521389187163,\n",
       "  0.0416666622222227,\n",
       "  0.05405404998904341,\n",
       "  0.0,\n",
       "  0.06818181319214912,\n",
       "  0.13186812744837595,\n",
       "  0.09090908649018617,\n",
       "  0.12903225385593722,\n",
       "  0.051282048896252576,\n",
       "  0.04285713933061253,\n",
       "  0.07894736420013872,\n",
       "  0.1320754674101105,\n",
       "  0.0659340609491611,\n",
       "  0.13186812744837595,\n",
       "  0.043478255954631936,\n",
       "  0.09090908649018617,\n",
       "  0.04285713933061253,\n",
       "  0.07894736420013872,\n",
       "  0.0659340609491611,\n",
       "  0.13186812744837595,\n",
       "  0.13461538014977825,\n",
       "  0.07142856722857167,\n",
       "  0.0,\n",
       "  0.1333333285902224,\n",
       "  0.08547008091752527,\n",
       "  0.03389830077994884,\n",
       "  0.12389380078941202,\n",
       "  0.11594202422180235,\n",
       "  0.0,\n",
       "  0.0,\n",
       "  0.15189873110078522,\n",
       "  0.10256410014135443,\n",
       "  0.10666666380088896,\n",
       "  0.0,\n",
       "  0.014084504521920704,\n",
       "  0.11111110781250011,\n",
       "  0.11940298285921146,\n",
       "  0.14583333015842023,\n",
       "  0.028985504188196086,\n",
       "  0.0157480294128591,\n",
       "  0.07499999695312513,\n",
       "  0.2077922053432282,\n",
       "  0.0,\n",
       "  0.07999999645800017,\n",
       "  0.1372548985774703,\n",
       "  0.06593406194904021,\n",
       "  0.0,\n",
       "  0.08163264926072487,\n",
       "  0.08247422231480522,\n",
       "  0.09302325250405635,\n",
       "  0.028169010442373014,\n",
       "  0.05882352514273387,\n",
       "  0.08450703846855799,\n",
       "  0.060606057442608066,\n",
       "  0.0999999972222223,\n",
       "  0.05298012959957912,\n",
       "  0.04761904453514759,\n",
       "  0.054545449745454964,\n",
       "  0.05633802483634218,\n",
       "  0.16393442287557117,\n",
       "  0.08403360993715148,\n",
       "  0.2535211232691927,\n",
       "  0.11764705451749341,\n",
       "  0.123456786282579,\n",
       "  0.04761904334467159,\n",
       "  0.0499999955281254,\n",
       "  0.11764705522491362,\n",
       "  0.04999999503472272,\n",
       "  0.09090908591942176,\n",
       "  0.21428571135204083,\n",
       "  0.037383172574024605,\n",
       "  0.15533980103308526,\n",
       "  0.11111110666666683,\n",
       "  0.07058823254256066,\n",
       "  0.0,\n",
       "  0.1372548985774703,\n",
       "  0.06593406194904021,\n",
       "  0.0,\n",
       "  0.08163264926072487,\n",
       "  0.08247422231480522,\n",
       "  0.09302325250405635,\n",
       "  0.11764705451749341,\n",
       "  0.123456786282579,\n",
       "  0.04761904334467159,\n",
       "  0.04819276634634972,\n",
       "  0.07894736420013872,\n",
       "  0.0,\n",
       "  0.02325581078150395,\n",
       "  0.04210525840221661,\n",
       "  0.08602150165337048,\n",
       "  0.06976743699296951,\n",
       "  0.024691355165371465],\n",
       " [0.14457830834083338,\n",
       "  0.18181817884297521,\n",
       "  0.15999999533800013,\n",
       "  0.12121211843434349,\n",
       "  0.3578947321351801,\n",
       "  0.189189185010957,\n",
       "  0.2666666617876544,\n",
       "  0.0941176446339101,\n",
       "  0.2077922043514927,\n",
       "  0.08888888444444466,\n",
       "  0.13999999745000002,\n",
       "  0.15730336742835507,\n",
       "  0.21621621183345519,\n",
       "  0.17021276226120424,\n",
       "  0.249999995466821,\n",
       "  0.20930232127366155,\n",
       "  0.22222221772225886,\n",
       "  0.2095238048544219,\n",
       "  0.20618556258901063,\n",
       "  0.2727272681637397,\n",
       "  0.17283950123456807,\n",
       "  0.19047618629535157,\n",
       "  0.27272726793646695,\n",
       "  0.1627906930638184,\n",
       "  0.3124999958680556,\n",
       "  0.30136985916307,\n",
       "  0.2380952334382087,\n",
       "  0.21999999580000007,\n",
       "  0.24096385103208018,\n",
       "  0.20289854580970398,\n",
       "  0.268041233095972,\n",
       "  0.23913042989839328,\n",
       "  0.3095238046258504,\n",
       "  0.12903225377269065,\n",
       "  0.31999999525688894,\n",
       "  0.24999999536675355,\n",
       "  0.2758620641141499,\n",
       "  0.09999999787534726,\n",
       "  0.28205127779092704,\n",
       "  0.27499999537812503,\n",
       "  0.19999999580000008,\n",
       "  0.27499999537812503,\n",
       "  0.3023255774770146,\n",
       "  0.36363635882610895,\n",
       "  0.21978021551986482,\n",
       "  0.2758620647747391,\n",
       "  0.3142857102040817,\n",
       "  0.25531914503168857,\n",
       "  0.20253164115366137,\n",
       "  0.21999999580000007,\n",
       "  0.24096385103208018,\n",
       "  0.20289854580970398,\n",
       "  0.268041233095972,\n",
       "  0.23913042989839328,\n",
       "  0.3095238046258504,\n",
       "  0.12903225377269065,\n",
       "  0.31999999525688894,\n",
       "  0.24999999536675355,\n",
       "  0.2758620641141499,\n",
       "  0.09999999787534726,\n",
       "  0.28205127779092704,\n",
       "  0.27499999537812503,\n",
       "  0.19999999580000008,\n",
       "  0.27499999537812503,\n",
       "  0.3023255774770146,\n",
       "  0.36363635882610895,\n",
       "  0.21978021551986482,\n",
       "  0.2758620647747391,\n",
       "  0.3142857102040817,\n",
       "  0.25531914503168857,\n",
       "  0.20253164115366137,\n",
       "  0.202531641339529,\n",
       "  0.20952380610249438,\n",
       "  0.18181817756456622,\n",
       "  0.2647058779757786,\n",
       "  0.11111110709876558,\n",
       "  0.1643835567573655,\n",
       "  0.19999999580000008,\n",
       "  0.2307692263247864,\n",
       "  0.2926829226888757,\n",
       "  0.1590909068188275,\n",
       "  0.15624999658203134,\n",
       "  0.2318840535265701,\n",
       "  0.23404254892485293,\n",
       "  0.15999999515022237,\n",
       "  0.19999999580000008,\n",
       "  0.20253164080115377,\n",
       "  0.2307692263247864,\n",
       "  0.15624999658203134,\n",
       "  0.2318840535265701,\n",
       "  0.15999999515022237,\n",
       "  0.19999999580000008,\n",
       "  0.20833332888888897,\n",
       "  0.18333332900555566,\n",
       "  0.13725489733756263,\n",
       "  0.22857142406530614,\n",
       "  0.20952380514467128,\n",
       "  0.14035087280855663,\n",
       "  0.31372548581891585,\n",
       "  0.21874999517578136,\n",
       "  0.0740740712962964,\n",
       "  0.1290322553590011,\n",
       "  0.23684210193905816,\n",
       "  0.12987012723899483,\n",
       "  0.16901408151557235,\n",
       "  0.0,\n",
       "  0.12499999725708012,\n",
       "  0.228571425044898,\n",
       "  0.15789473442905513,\n",
       "  0.27272726921487606,\n",
       "  0.14705882025951564,\n",
       "  0.10619468783459948,\n",
       "  0.1351351320672024,\n",
       "  0.24324324052593138,\n",
       "  0.06818181466942166,\n",
       "  0.10526315422493088,\n",
       "  0.2696629176265623,\n",
       "  0.14634145948839988,\n",
       "  0.05555555277777792,\n",
       "  0.13043477875236306,\n",
       "  0.22988505310609067,\n",
       "  0.14814814483158062,\n",
       "  0.11428571046530626,\n",
       "  0.15624999548828136,\n",
       "  0.22857142461632657,\n",
       "  0.15384615064615392,\n",
       "  0.20689654865041618,\n",
       "  0.10447760909668084,\n",
       "  0.14999999680000006,\n",
       "  0.16161615684113878,\n",
       "  0.14925372786812216,\n",
       "  0.2545454509355372,\n",
       "  0.17307691932692315,\n",
       "  0.2686567127823569,\n",
       "  0.24242423797979806,\n",
       "  0.13888888500385813,\n",
       "  0.07894736420013872,\n",
       "  0.10666666222222242,\n",
       "  0.22950819301263106,\n",
       "  0.19607842649557877,\n",
       "  0.27160493330894686,\n",
       "  0.30555555209876545,\n",
       "  0.18181817688274804,\n",
       "  0.26666666191358035,\n",
       "  0.21212120778236923,\n",
       "  0.13333333013333343,\n",
       "  0.05769230458579897,\n",
       "  0.2696629176265623,\n",
       "  0.14634145948839988,\n",
       "  0.05555555277777792,\n",
       "  0.13043477875236306,\n",
       "  0.22988505310609067,\n",
       "  0.14814814483158062,\n",
       "  0.24242423797979806,\n",
       "  0.13888888500385813,\n",
       "  0.07894736420013872,\n",
       "  0.1538461491124262,\n",
       "  0.2702702659861213,\n",
       "  0.17391303924385643,\n",
       "  0.17721518649575393,\n",
       "  0.20689654691504833,\n",
       "  0.16666666291666676,\n",
       "  0.14999999520000015,\n",
       "  0.13513513190284887]]"
      ]
     },
     "execution_count": 42,
     "metadata": {},
     "output_type": "execute_result"
    }
   ],
   "source": [
    "%%time\n",
    "scores = get_scores(eval_data)"
   ]
  },
  {
   "cell_type": "code",
   "execution_count": 44,
   "id": "e231e80c-8bd4-4298-a2cf-0ae433595e8a",
   "metadata": {
    "tags": []
   },
   "outputs": [],
   "source": [
    "r1_scores = scores[0]\n",
    "r2_scores = scores[1]\n",
    "rl_scores = scores[2]"
   ]
  },
  {
   "cell_type": "code",
   "execution_count": 48,
   "id": "bacdd922-1338-4781-a4de-64d488e1a8e0",
   "metadata": {
    "tags": []
   },
   "outputs": [
    {
     "name": "stderr",
     "output_type": "stream",
     "text": [
      "/dgxa_home/se20uari038/anaconda3/envs/mowa/lib/python3.11/site-packages/seaborn/axisgrid.py:118: UserWarning: The figure layout has changed to tight\n",
      "  self._figure.tight_layout(*args, **kwargs)\n"
     ]
    },
    {
     "data": {
      "text/plain": [
       "<seaborn.axisgrid.FacetGrid at 0x7fcc581e2890>"
      ]
     },
     "execution_count": 48,
     "metadata": {},
     "output_type": "execute_result"
    },
    {
     "data": {
      "text/plain": [
       "<Figure size 1000x500 with 0 Axes>"
      ]
     },
     "metadata": {},
     "output_type": "display_data"
    },
    {
     "data": {
      "image/png": "[encoded data removed]",
      "text/plain": [
       "<Figure size 500x500 with 1 Axes>"
      ]
     },
     "metadata": {},
     "output_type": "display_data"
    }
   ],
   "source": [
    "import seaborn as sns\n",
    "from matplotlib import pyplot as plt\n",
    "\n",
    "plt.figure(figsize = (10,5))\n",
    "sns.displot(r1_scores)\n",
    "# plt.plot()"
   ]
  },
  {
   "cell_type": "code",
   "execution_count": 49,
   "id": "3bef7110-a281-44e3-981e-40e1febe7135",
   "metadata": {
    "tags": []
   },
   "outputs": [
    {
     "name": "stderr",
     "output_type": "stream",
     "text": [
      "/dgxa_home/se20uari038/anaconda3/envs/mowa/lib/python3.11/site-packages/seaborn/axisgrid.py:118: UserWarning: The figure layout has changed to tight\n",
      "  self._figure.tight_layout(*args, **kwargs)\n"
     ]
    },
    {
     "data": {
      "text/plain": [
       "<seaborn.axisgrid.FacetGrid at 0x7fcc3aae6890>"
      ]
     },
     "execution_count": 49,
     "metadata": {},
     "output_type": "execute_result"
    },
    {
     "data": {
      "image/png": "[encoded data removed]",
      "text/plain": [
       "<Figure size 500x500 with 1 Axes>"
      ]
     },
     "metadata": {},
     "output_type": "display_data"
    }
   ],
   "source": [
    "sns.displot(r2_scores)\n"
   ]
  },
  {
   "cell_type": "code",
   "execution_count": 50,
   "id": "e6a8d759-bbb8-4de3-9528-3a2aa9e56873",
   "metadata": {
    "tags": []
   },
   "outputs": [
    {
     "name": "stderr",
     "output_type": "stream",
     "text": [
      "/dgxa_home/se20uari038/anaconda3/envs/mowa/lib/python3.11/site-packages/seaborn/axisgrid.py:118: UserWarning: The figure layout has changed to tight\n",
      "  self._figure.tight_layout(*args, **kwargs)\n"
     ]
    },
    {
     "data": {
      "text/plain": [
       "<seaborn.axisgrid.FacetGrid at 0x7fcc3ac612d0>"
      ]
     },
     "execution_count": 50,
     "metadata": {},
     "output_type": "execute_result"
    },
    {
     "data": {
      "image/png": "[encoded data removed]",
      "text/plain": [
       "<Figure size 500x500 with 1 Axes>"
      ]
     },
     "metadata": {},
     "output_type": "display_data"
    }
   ],
   "source": [
    "sns.displot(rl_scores)"
   ]
  },
  {
   "cell_type": "code",
   "execution_count": null,
   "id": "880fcb13-ae43-4702-992f-63e4d108fa9d",
   "metadata": {},
   "outputs": [],
   "source": []
  },
  {
   "cell_type": "code",
   "execution_count": 58,
   "id": "1814b34c-48a2-43ed-a5d0-aecf1f342653",
   "metadata": {
    "tags": []
   },
   "outputs": [],
   "source": [
    "def normalize_text(s):\n",
    "    \"\"\"Removing articles and punctuation, and standardizing whitespace are all typical text processing steps.\"\"\"\n",
    "    import string, re\n",
    "\n",
    "    def remove_articles(text):\n",
    "        regex = re.compile(r\"\\b(a|an|the)\\b\", re.UNICODE)\n",
    "        return re.sub(regex, \" \", text)\n",
    "\n",
    "    def white_space_fix(text):\n",
    "        return \" \".join(text.split())\n",
    "\n",
    "    def remove_punc(text):\n",
    "        exclude = set(string.punctuation)\n",
    "        return \"\".join(ch for ch in text if ch not in exclude)\n",
    "\n",
    "    def lower(text):\n",
    "        return text.lower()\n",
    "\n",
    "    return white_space_fix(remove_articles(remove_punc(lower(s))))\n",
    "\n",
    "\n",
    "def compute_f1(prediction, truth):\n",
    "    pred_tokens = normalize_text(prediction).split()\n",
    "    truth_tokens = normalize_text(truth).split()\n",
    "    \n",
    "    if len(pred_tokens) == 0 or len(truth_tokens) == 0:\n",
    "        return int(pred_tokens == truth_tokens)\n",
    "    \n",
    "    common_tokens = set(pred_tokens) & set(truth_tokens)\n",
    "    \n",
    "    # if there are no common tokens then f1 = 0\n",
    "    if len(common_tokens) == 0:\n",
    "        return 0\n",
    "    \n",
    "    prec = len(common_tokens) / len(pred_tokens)\n",
    "    rec = len(common_tokens) / len(truth_tokens)\n",
    "    \n",
    "    return 2 * (prec * rec) / (prec + rec)\n"
   ]
  },
  {
   "cell_type": "code",
   "execution_count": 60,
   "id": "76598cbc-383b-4a01-a97e-f8c5d7902864",
   "metadata": {
    "tags": []
   },
   "outputs": [],
   "source": [
    "def get_f1_scores(eval_data):\n",
    "    \n",
    "    f1_scores = []\n",
    "    \n",
    "    true_ans = []\n",
    "    pred_ans = []\n",
    "    \n",
    "    for i in range(len(eval_data)):\n",
    "\n",
    "        question = eval_data[i][\"question\"]\n",
    "        \n",
    "        prompt = f\"\"\"\n",
    "        Answer the following question about Nvidea's product and services in detail: \\n{question}\n",
    "        \\nAnswer:-\n",
    "        \"\"\".strip()\n",
    "\n",
    "        encoding = tokenizer_gen(prompt, return_tensors=\"pt\").to(device)\n",
    "\n",
    "        outputs = model_gen.generate(\n",
    "          input_ids = encoding.input_ids,\n",
    "          attention_mask = encoding.attention_mask,\n",
    "          generation_config = generation_config_gen\n",
    "      )\n",
    "        \n",
    "        prediction = tokenizer_gen.decode(outputs[0], skip_special_tokens=True)\n",
    "        \n",
    "        output = eval_data[i][\"answer\"]\n",
    "    \n",
    "        f1 = compute_f1(prediction, output)\n",
    "        \n",
    "        true_ans.append(output)\n",
    "        pred_ans.append(prediction)\n",
    "        \n",
    "        \n",
    "        f1_scores.append(f1)\n",
    "        \n",
    "        \n",
    "    return [f1_scores, true_ans, pred_ans]\n",
    "        \n",
    "        "
   ]
  },
  {
   "cell_type": "code",
   "execution_count": 63,
   "id": "ae049e2d-86be-4c10-a080-83b8eca6209f",
   "metadata": {
    "tags": []
   },
   "outputs": [
    {
     "name": "stdout",
     "output_type": "stream",
     "text": [
      "CPU times: user 20min 36s, sys: 177 ms, total: 20min 36s\n",
      "Wall time: 20min 37s\n"
     ]
    }
   ],
   "source": [
    "%%time\n",
    "\n",
    "f1_scores,true_ans,pred_ans = get_f1_scores(eval_data)"
   ]
  },
  {
   "cell_type": "code",
   "execution_count": 66,
   "id": "c6c1ccb7-bfbb-4d95-88df-7544b8b5c2ba",
   "metadata": {
    "tags": []
   },
   "outputs": [
    {
     "data": {
      "text/plain": [
       "0.2103319580116902"
      ]
     },
     "execution_count": 66,
     "metadata": {},
     "output_type": "execute_result"
    }
   ],
   "source": [
    "np.array(f1_scores).mean()"
   ]
  },
  {
   "cell_type": "code",
   "execution_count": 68,
   "id": "a3725c11-30d3-433a-a9e7-5b2e016dabee",
   "metadata": {
    "tags": []
   },
   "outputs": [
    {
     "data": {
      "text/plain": [
       "0.375"
      ]
     },
     "execution_count": 68,
     "metadata": {},
     "output_type": "execute_result"
    }
   ],
   "source": [
    "np.array(f1_scores).max()"
   ]
  },
  {
   "cell_type": "code",
   "execution_count": 69,
   "id": "58dabfc1-6257-4154-9c60-4e7c6e5cf055",
   "metadata": {
    "tags": []
   },
   "outputs": [
    {
     "data": {
      "text/plain": [
       "0.0"
      ]
     },
     "execution_count": 69,
     "metadata": {},
     "output_type": "execute_result"
    }
   ],
   "source": [
    "np.array(f1_scores).min()"
   ]
  },
  {
   "cell_type": "code",
   "execution_count": 70,
   "id": "82efe3dc-422d-4dbe-afec-97b2b77e7a3d",
   "metadata": {
    "tags": []
   },
   "outputs": [
    {
     "name": "stderr",
     "output_type": "stream",
     "text": [
      "/dgxa_home/se20uari038/anaconda3/envs/mowa/lib/python3.11/site-packages/seaborn/axisgrid.py:118: UserWarning: The figure layout has changed to tight\n",
      "  self._figure.tight_layout(*args, **kwargs)\n"
     ]
    },
    {
     "data": {
      "text/plain": [
       "<seaborn.axisgrid.FacetGrid at 0x7fcc3b583e90>"
      ]
     },
     "execution_count": 70,
     "metadata": {},
     "output_type": "execute_result"
    },
    {
     "data": {
      "image/png": "[encoded data removed]",
      "text/plain": [
       "<Figure size 500x500 with 1 Axes>"
      ]
     },
     "metadata": {},
     "output_type": "display_data"
    }
   ],
   "source": [
    "sns.displot(f1_scores)"
   ]
  },
  {
   "cell_type": "code",
   "execution_count": null,
   "id": "041a200d-2d2d-425d-aac0-4c9b5b7b5584",
   "metadata": {
    "tags": []
   },
   "outputs": [],
   "source": []
  },
  {
   "cell_type": "code",
   "execution_count": null,
   "id": "f5984a81-8481-4461-8ecd-3a103883c937",
   "metadata": {},
   "outputs": [],
   "source": []
  },
  {
   "cell_type": "code",
   "execution_count": null,
   "id": "108989b1-aedb-4da8-bc86-d950e500e0a7",
   "metadata": {
    "tags": []
   },
   "outputs": [],
   "source": []
  },
  {
   "cell_type": "code",
   "execution_count": null,
   "id": "857d8c90-d4cd-4259-b4f5-7e003edabc81",
   "metadata": {},
   "outputs": [],
   "source": []
  },
  {
   "cell_type": "code",
   "execution_count": null,
   "id": "a56eb937-600a-49b7-9587-e1bdc10c7a8d",
   "metadata": {},
   "outputs": [],
   "source": []
  },
  {
   "cell_type": "code",
   "execution_count": null,
   "id": "f8295dd5-15b8-4014-8c31-a021b2a198d8",
   "metadata": {},
   "outputs": [],
   "source": []
  },
  {
   "cell_type": "code",
   "execution_count": null,
   "id": "2bd9085b-d991-4d0a-849c-f2260acdda26",
   "metadata": {},
   "outputs": [],
   "source": []
  },
  {
   "cell_type": "code",
   "execution_count": null,
   "id": "cc026f38-cae6-4c7a-be75-e7536fbde95d",
   "metadata": {},
   "outputs": [],
   "source": []
  },
  {
   "cell_type": "code",
   "execution_count": null,
   "id": "32b6e6d0-8bf3-4c04-9485-54760bafb2a9",
   "metadata": {},
   "outputs": [],
   "source": []
  }
 ],
 "metadata": {
  "kernelspec": {
   "display_name": "Python 3 (ipykernel)",
   "language": "python",
   "name": "python3"
  },
  "language_info": {
   "codemirror_mode": {
    "name": "ipython",
    "version": 3
   },
   "file_extension": ".py",
   "mimetype": "text/x-python",
   "name": "python",
   "nbconvert_exporter": "python",
   "pygments_lexer": "ipython3",
   "version": "3.11.4"
  }
 },
 "nbformat": 4,
 "nbformat_minor": 5
}
