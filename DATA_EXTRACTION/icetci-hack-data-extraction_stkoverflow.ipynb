{
 "cells": [
  {
   "cell_type": "code",
   "execution_count": 1,
   "id": "676cbafd",
   "metadata": {
    "_cell_guid": "b1076dfc-b9ad-4769-8c92-a6c4dae69d19",
    "_uuid": "8f2839f25d086af736a60e9eeb907d3b93b6e0e5",
    "execution": {
     "iopub.execute_input": "2023-08-08T17:06:33.199008Z",
     "iopub.status.busy": "2023-08-08T17:06:33.198521Z",
     "iopub.status.idle": "2023-08-08T17:06:33.430667Z",
     "shell.execute_reply": "2023-08-08T17:06:33.429466Z"
    },
    "papermill": {
     "duration": 0.242775,
     "end_time": "2023-08-08T17:06:33.434650",
     "exception": false,
     "start_time": "2023-08-08T17:06:33.191875",
     "status": "completed"
    },
    "tags": []
   },
   "outputs": [],
   "source": [
    "# This Python 3 environment comes with many helpful analytics libraries installed\n",
    "# It is defined by the kaggle/python Docker image: https://github.com/kaggle/docker-python\n",
    "# For example, here's several helpful packages to load\n",
    "\n",
    "import numpy as np # linear algebra\n",
    "import pandas as pd # data processing, CSV file I/O (e.g. pd.read_csv)\n",
    "import json\n",
    "# Input data files are available in the read-only \"../input/\" directory\n",
    "# For example, running this (by clicking run or pressing Shift+Enter) will list all files under the input directory\n",
    "import re\n",
    "import os\n",
    "from bs4 import BeautifulSoup\n",
    "import requests\n",
    "import csv\n",
    "import itertools\n",
    "from tqdm import tqdm\n",
    "# You can write up to 20GB to the current directory (/kaggle/working/) that gets preserved as output when you create a version using \"Save & Run All\" \n",
    "# You can also write temporary files to /kaggle/temp/, but they won't be saved outside of the current session"
   ]
  },
  {
   "cell_type": "code",
   "execution_count": 2,
   "id": "91235f3e",
   "metadata": {
    "execution": {
     "iopub.execute_input": "2023-08-08T17:06:33.448569Z",
     "iopub.status.busy": "2023-08-08T17:06:33.447641Z",
     "iopub.status.idle": "2023-08-08T17:06:33.456059Z",
     "shell.execute_reply": "2023-08-08T17:06:33.454951Z"
    },
    "papermill": {
     "duration": 0.018555,
     "end_time": "2023-08-08T17:06:33.459187",
     "exception": false,
     "start_time": "2023-08-08T17:06:33.440632",
     "status": "completed"
    },
    "tags": []
   },
   "outputs": [],
   "source": [
    "def get_links(tag,page_limit):\n",
    "    hrefs=[]\n",
    "    for page in range(1,page_limit):\n",
    "        req=requests.get(url='https://stackoverflow.com/questions/tagged/{}?tab=newest&page={}&pagesize=15'.format(tag,page))\n",
    "        soup=BeautifulSoup(req.text,\"html.parser\")\n",
    "        for i in soup.find_all(\"a\",class_=\"s-link\",href=True):\n",
    "            hrefs.append(i['href'])\n",
    "            \n",
    "    filtered_links = [link for link in hrefs if link != \"javascript:void(0)\" and not link.startswith(\"https\")]\n",
    "    prefix='https://stackoverflow.com'\n",
    "    final_links=[]\n",
    "    for h in filtered_links:\n",
    "        if 'https' not in h:\n",
    "            m=prefix+h\n",
    "            final_links.append(m)\n",
    "            \n",
    "    return final_links"
   ]
  },
  {
   "cell_type": "code",
   "execution_count": 3,
   "id": "34865484",
   "metadata": {
    "execution": {
     "iopub.execute_input": "2023-08-08T17:06:33.472553Z",
     "iopub.status.busy": "2023-08-08T17:06:33.472120Z",
     "iopub.status.idle": "2023-08-08T17:06:33.486204Z",
     "shell.execute_reply": "2023-08-08T17:06:33.485030Z"
    },
    "papermill": {
     "duration": 0.024666,
     "end_time": "2023-08-08T17:06:33.489483",
     "exception": false,
     "start_time": "2023-08-08T17:06:33.464817",
     "status": "completed"
    },
    "tags": []
   },
   "outputs": [],
   "source": [
    "def questions_and_anwers(links):\n",
    "    questions_json=[]\n",
    "    margin=1e-7\n",
    "    for link in tqdm(links,total=len(links)):\n",
    "        question_dict = {\n",
    "                'question': None,\n",
    "                'answers': None,\n",
    "                'votes':None\n",
    "            }\n",
    "\n",
    "\n",
    "        response = requests.get(url=link)\n",
    "        soup = BeautifulSoup(response.text,\"html.parser\")\n",
    "\n",
    "\n",
    "        reply_answers=[]\n",
    "        answer_votes=[]\n",
    "        marg_votes=[]\n",
    "        question_elements = soup.find_all('div',{'class':'question js-question'})\n",
    "        for question in question_elements:\n",
    "            post_body = question.find(class_=\"s-prose js-post-body\")\n",
    "            asked_question=re.sub(r'<[^>]+>', '', str(post_body))\n",
    "\n",
    "\n",
    "            \n",
    "            question_dict['question']=re.sub(r'\\s+', ' ', asked_question).strip()\n",
    "\n",
    "        answer_elements = soup.find_all('div',{'id':'answers'})\n",
    "        for answer in answer_elements:\n",
    "            post_body = answer.find_all(class_=\"s-prose js-post-body\")\n",
    "            vote_elem=answer.find_all(class_='js-vote-count')\n",
    "           \n",
    "            for elem in post_body:\n",
    "                reply_answer=re.sub(r'<[^>]+>', '', str(elem))\n",
    "\n",
    "                local_answers=[]\n",
    "                local_answers.append( re.sub(r'\\s+', ' ', reply_answer).strip())\n",
    "                reply_answers.append(local_answers)\n",
    "            for elem in vote_elem:\n",
    "                votes=elem.get_text()\n",
    "\n",
    "                answer_votes.append( re.sub(r'\\s+', ' ', votes).strip())\n",
    "                int_votes=[eval(i) for i in answer_votes]\n",
    "                marg_votes=[margin+i for i in int_votes]\n",
    "        question_dict['answers']=reply_answers\n",
    "        question_dict['votes']=marg_votes\n",
    "        questions_json.append(question_dict)\n",
    "    return questions_json"
   ]
  },
  {
   "cell_type": "code",
   "execution_count": 4,
   "id": "4aaccf45",
   "metadata": {
    "execution": {
     "iopub.execute_input": "2023-08-08T17:06:33.502557Z",
     "iopub.status.busy": "2023-08-08T17:06:33.502148Z",
     "iopub.status.idle": "2023-08-08T17:06:33.508070Z",
     "shell.execute_reply": "2023-08-08T17:06:33.506971Z"
    },
    "papermill": {
     "duration": 0.015826,
     "end_time": "2023-08-08T17:06:33.511040",
     "exception": false,
     "start_time": "2023-08-08T17:06:33.495214",
     "status": "completed"
    },
    "tags": []
   },
   "outputs": [],
   "source": [
    "tags1=['nvidia','nvidia-jetson','nvidia-jetson-nano','nvidia-docker','nvidia-digits','nvidia-deepstream','nvidia-smi','nvidia-titan','nvidia-flex','nvidia-hpc-compilers','nvidia-isaac','nvidia-jetpack-sdk','nvidia-sass','nvidia-modulus']\n",
    "topic_pages1=[75,9,7,7,3,3,2,2,2,2,2,2,2,2]"
   ]
  },
  {
   "cell_type": "code",
   "execution_count": 5,
   "id": "c400fe09",
   "metadata": {
    "execution": {
     "iopub.execute_input": "2023-08-08T17:06:33.524213Z",
     "iopub.status.busy": "2023-08-08T17:06:33.523623Z",
     "iopub.status.idle": "2023-08-08T17:06:33.530892Z",
     "shell.execute_reply": "2023-08-08T17:06:33.529684Z"
    },
    "papermill": {
     "duration": 0.017162,
     "end_time": "2023-08-08T17:06:33.533903",
     "exception": false,
     "start_time": "2023-08-08T17:06:33.516741",
     "status": "completed"
    },
    "tags": []
   },
   "outputs": [],
   "source": [
    "tags2=['pycuda','theano-cuda','cuda-gdb','jcuda','cuda-streams','cudafy.net','cuda-context','cuda-driver','cuda-arrays','managed-cuda','cuda-graphs','cuda.net','cuda-events','cudamat','cuda-uva','scikit-cuda','cudatoolkit','cuda-profiling','cuda-jit-cache','cuda-wmma','triton','tritonserver']\n",
    "topic_pages2=[10,4,3,3,3,3,2,2,2,2,2,2,2,2,2,2,2,2,2,2,2,2]"
   ]
  },
  {
   "cell_type": "code",
   "execution_count": 6,
   "id": "c8877f46",
   "metadata": {
    "execution": {
     "iopub.execute_input": "2023-08-08T17:06:33.546561Z",
     "iopub.status.busy": "2023-08-08T17:06:33.546146Z",
     "iopub.status.idle": "2023-08-08T17:06:33.551416Z",
     "shell.execute_reply": "2023-08-08T17:06:33.550255Z"
    },
    "papermill": {
     "duration": 0.014911,
     "end_time": "2023-08-08T17:06:33.554294",
     "exception": false,
     "start_time": "2023-08-08T17:06:33.539383",
     "status": "completed"
    },
    "tags": []
   },
   "outputs": [],
   "source": [
    "tags=tags1+tags2\n",
    "topic_pages=topic_pages1+topic_pages2"
   ]
  },
  {
   "cell_type": "code",
   "execution_count": 7,
   "id": "9d9fea54",
   "metadata": {
    "execution": {
     "iopub.execute_input": "2023-08-08T17:06:33.568284Z",
     "iopub.status.busy": "2023-08-08T17:06:33.566123Z",
     "iopub.status.idle": "2023-08-08T17:06:33.572304Z",
     "shell.execute_reply": "2023-08-08T17:06:33.571376Z"
    },
    "papermill": {
     "duration": 0.015012,
     "end_time": "2023-08-08T17:06:33.574800",
     "exception": false,
     "start_time": "2023-08-08T17:06:33.559788",
     "status": "completed"
    },
    "tags": []
   },
   "outputs": [],
   "source": [
    "cuda_page_lim=287"
   ]
  },
  {
   "cell_type": "code",
   "execution_count": 8,
   "id": "ea038d5b",
   "metadata": {
    "execution": {
     "iopub.execute_input": "2023-08-08T17:06:33.584757Z",
     "iopub.status.busy": "2023-08-08T17:06:33.584160Z",
     "iopub.status.idle": "2023-08-09T04:08:49.671136Z",
     "shell.execute_reply": "2023-08-09T04:08:49.669672Z"
    },
    "papermill": {
     "duration": 39736.567583,
     "end_time": "2023-08-09T04:08:50.146302",
     "exception": false,
     "start_time": "2023-08-08T17:06:33.578719",
     "status": "completed"
    },
    "tags": []
   },
   "outputs": [
    {
     "name": "stderr",
     "output_type": "stream",
     "text": [
      "100%|██████████| 3653/3653 [7:48:07<00:00,  7.69s/it]\n",
      "100%|██████████| 398/398 [35:03<00:00,  5.28s/it]\n",
      "0it [00:00, ?it/s]\n",
      "0it [00:00, ?it/s]\n",
      "0it [00:00, ?it/s]\n",
      "0it [00:00, ?it/s]\n",
      "100%|██████████| 40/40 [00:15<00:00,  2.54it/s]\n",
      "100%|██████████| 11/11 [00:04<00:00,  2.30it/s]\n",
      "100%|██████████| 10/10 [00:03<00:00,  2.66it/s]\n",
      "100%|██████████| 9/9 [00:03<00:00,  2.37it/s]\n",
      "100%|██████████| 7/7 [00:02<00:00,  2.94it/s]\n",
      "100%|██████████| 4/4 [00:01<00:00,  2.15it/s]\n",
      "100%|██████████| 3/3 [00:01<00:00,  2.50it/s]\n",
      "100%|██████████| 1/1 [00:00<00:00,  2.80it/s]\n",
      "100%|██████████| 421/421 [1:19:16<00:00, 11.30s/it]\n",
      "100%|██████████| 144/144 [16:11<00:00,  6.75s/it]\n",
      "100%|██████████| 88/88 [00:38<00:00,  2.29it/s]\n",
      "100%|██████████| 78/78 [15:51<00:00, 12.20s/it]\n",
      "100%|██████████| 76/76 [00:30<00:00,  2.47it/s]\n",
      "100%|██████████| 71/71 [15:45<00:00, 13.32s/it]\n",
      "100%|██████████| 47/47 [00:19<00:00,  2.40it/s]\n",
      "100%|██████████| 47/47 [00:19<00:00,  2.46it/s]\n",
      "100%|██████████| 24/24 [00:10<00:00,  2.37it/s]\n",
      "100%|██████████| 19/19 [04:20<00:00, 13.73s/it]\n",
      "0it [00:00, ?it/s]\n",
      "0it [00:00, ?it/s]\n",
      "0it [00:00, ?it/s]\n",
      "0it [00:00, ?it/s]\n",
      "0it [00:00, ?it/s]\n",
      "0it [00:00, ?it/s]\n",
      "0it [00:00, ?it/s]\n",
      "0it [00:00, ?it/s]\n",
      "0it [00:00, ?it/s]\n",
      "0it [00:00, ?it/s]\n",
      "0it [00:00, ?it/s]\n",
      "0it [00:00, ?it/s]\n"
     ]
    }
   ],
   "source": [
    "for i in range(0,len(tags)):\n",
    "    links=get_links(tags[i],topic_pages[i])\n",
    "    q_and_a=questions_and_anwers(links)\n",
    "    with open('{}.json'.format(tags[i]), 'w') as json_file:\n",
    "       json.dump(q_and_a, json_file, indent=4)"
   ]
  }
 ],
 "metadata": {
  "kernelspec": {
   "display_name": "Python 3",
   "language": "python",
   "name": "python3"
  },
  "language_info": {
   "codemirror_mode": {
    "name": "ipython",
    "version": 3
   },
   "file_extension": ".py",
   "mimetype": "text/x-python",
   "name": "python",
   "nbconvert_exporter": "python",
   "pygments_lexer": "ipython3",
   "version": "3.10.12"
  },
  "papermill": {
   "default_parameters": {},
   "duration": 39751.117307,
   "end_time": "2023-08-09T04:08:52.973621",
   "environment_variables": {},
   "exception": null,
   "input_path": "__notebook__.ipynb",
   "output_path": "__notebook__.ipynb",
   "parameters": {},
   "start_time": "2023-08-08T17:06:21.856314",
   "version": "2.4.0"
  }
 },
 "nbformat": 4,
 "nbformat_minor": 5
}
